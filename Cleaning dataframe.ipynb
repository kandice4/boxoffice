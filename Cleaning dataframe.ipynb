{
 "cells": [
  {
   "cell_type": "code",
   "execution_count": 1,
   "metadata": {},
   "outputs": [],
   "source": [
    "import pickle\n",
    "import pandas as pd\n",
    "import numpy as np"
   ]
  },
  {
   "cell_type": "code",
   "execution_count": 2,
   "metadata": {
    "collapsed": true
   },
   "outputs": [],
   "source": [
    "def make_pickles(objs):\n",
    "    for filename, obj in objs:\n",
    "        with open(filename, \"wb\") as picklefile:\n",
    "            pickle.dump(obj, picklefile)\n",
    "\n",
    "def get_pickles(pkls):\n",
    "    if len(pkls) == 1:\n",
    "        with open(pkls[0], \"rb\") as picklefile:\n",
    "            objs = pickle.load(picklefile)\n",
    "    else:\n",
    "        objs = []\n",
    "        for filename in pkls:\n",
    "            with open(filename, \"rb\") as picklefile:\n",
    "                objs.append(pickle.load(picklefile))\n",
    "    return objs            "
   ]
  },
  {
   "cell_type": "code",
   "execution_count": 139,
   "metadata": {},
   "outputs": [],
   "source": [
    "def dollars_to_numstring(df, columns):\n",
    "    for column in columns:\n",
    "        df[column] = df[column].str.replace('$','')\n",
    "        df[column] = df[column].str.replace(',', '')\n",
    "        df[column] = df[column].str.replace(' million','*10**6')\n",
    "\n",
    "def to_int(item):\n",
    "    if not item:\n",
    "        return np.nan\n",
    "    else:\n",
    "        try:\n",
    "            return int(item)\n",
    "        except:\n",
    "            try:\n",
    "                return eval(item)\n",
    "            except:\n",
    "                return np.nan\n",
    "        \n",
    "def numstring_to_numeric(df, columns):\n",
    "    for column in columns:\n",
    "        df[column] = df[column].apply(to_int)\n",
    "        \n",
    "def runtime_to_minutes(runtimestring):\n",
    "    if runtimestring == 'N/A':\n",
    "        return np.nan\n",
    "    runtime = runtimestring.split()\n",
    "    try:\n",
    "        minutes = int(runtime[0])*60 + int(runtime[2])\n",
    "        return minutes\n",
    "    except:\n",
    "        raise\n",
    "\n",
    "def to_dt(item):\n",
    "    if not item or item=='TBD' or item=='N/A' or item==np.nan:\n",
    "        return np.nan\n",
    "    else:\n",
    "        item = item.replace('Fall', 'September').replace('Winter', 'January')\n",
    "    try:\n",
    "        return pd.to_datetime(item)\n",
    "    except:\n",
    "        if len(item)==4:\n",
    "            try:\n",
    "                return pd.to_datetime(item, format='%Y')\n",
    "            except:\n",
    "                raise\n",
    "        else:\n",
    "            try:\n",
    "                return pd.to_datetime(item,format='%B %d, %Y')\n",
    "            except ValueError:\n",
    "                try: \n",
    "                    return pd.to_datetime(item,format='%B %Y')\n",
    "                except:\n",
    "                    raise "
   ]
  },
  {
   "cell_type": "code",
   "execution_count": 209,
   "metadata": {},
   "outputs": [],
   "source": [
    "na_fills = {'page':'N/A', 'title':'N/A', 'year':np.nan, 'opening':np.nan, 'domestic':np.nan, 'budget':np.nan, 'series':'N/A',\n",
    "       'distr':'N/A', 'rating':'N/A', 'release':'N/A', 'genre':'N/A', 'runtime':'N/A', 'directors':'N/A',\n",
    "       'writers':'N/A', 'actors':'N/A', 'producers':'N/A', 'opening_adj':np.nan, 'domestic_adj':np.nan,\n",
    "       'budget_adj':np.nan}\n",
    "\n",
    "df = get_pickles(['df.pkl'])\n",
    "df.fillna(value=na_fills, inplace=True)\n",
    "\n",
    "cols = ['opening','domestic','opening_adj', 'domestic_adj','budget', 'budget_adj']\n",
    "dollars_to_numstring(df, cols)\n",
    "numstring_to_numeric(df, cols)\n",
    "df['year'] = pd.to_datetime(df['year']).dt.year\n",
    "df['release'] = df['release'].apply(to_dt)\n",
    "df['rating'] = df['rating'].apply(lambda x:x.replace('GP','PG'))\n",
    "df['runtime'] = df['runtime'].apply(runtime_to_minutes)\n",
    "df.dropna(subset=['release'],inplace=True)\n",
    "df.drop(df[df.release > pd.to_datetime('10/1/2017')].index, inplace=True)\n",
    "df.drop(df[df.release < pd.to_datetime('10/1/1977')].index, inplace=True)"
   ]
  },
  {
   "cell_type": "code",
   "execution_count": 51,
   "metadata": {
    "collapsed": true
   },
   "outputs": [],
   "source": [
    "df_numbers = get_pickles(['df_numbers.pkl'])\n",
    "\n",
    "cols = ['Production Budget', 'Domestic Gross', 'Worldwide Gross']\n",
    "dollars_to_numstring(df_numbers, cols)\n",
    "numstring_to_numeric(df_numbers, cols)\n",
    "df_numbers['Release Date'] = pd.to_datetime(df_numbers['Release Date'])\n",
    "df_numbers['Year'] = df_numbers['Release Date'].dt.year\n",
    "df_numbers.dropna(subset=['Release Date'], inplace=True)\n",
    "df_numbers.drop(df_numbers[df_numbers['Release Date'] > pd.to_datetime('10/1/2017')].index, inplace=True)\n",
    "df_numbers.drop(df_numbers[df_numbers['Release Date'] < pd.to_datetime('10/1/1977')].index, inplace=True)"
   ]
  },
  {
   "cell_type": "code",
   "execution_count": 52,
   "metadata": {
    "collapsed": true
   },
   "outputs": [],
   "source": [
    "df_AZ = get_pickles(['df_AZ.pkl'])\n",
    "\n",
    "cols = ['Total Gross', 'Total Theaters', 'Opening', 'Opening Theaters']\n",
    "dollars_to_numstring(df_AZ, cols)\n",
    "numstring_to_numeric(df_AZ, cols)\n",
    "df_AZ['Open'] = df_AZ['Open'].apply(to_dt)"
   ]
  },
  {
   "cell_type": "code",
   "execution_count": 238,
   "metadata": {},
   "outputs": [
    {
     "name": "stdout",
     "output_type": "stream",
     "text": [
      "<class 'pandas.core.frame.DataFrame'>\n",
      "Int64Index: 15771 entries, 0 to 17552\n",
      "Data columns (total 19 columns):\n",
      "page            15771 non-null object\n",
      "title           15771 non-null object\n",
      "year            15771 non-null float64\n",
      "opening         13821 non-null float64\n",
      "domestic        15122 non-null float64\n",
      "budget          3112 non-null float64\n",
      "series          15771 non-null object\n",
      "distr           15771 non-null object\n",
      "rating          15771 non-null object\n",
      "release         15771 non-null datetime64[ns]\n",
      "genre           15771 non-null object\n",
      "runtime         15322 non-null float64\n",
      "directors       15771 non-null object\n",
      "writers         15771 non-null object\n",
      "actors          15771 non-null object\n",
      "producers       15771 non-null object\n",
      "opening_adj     13275 non-null float64\n",
      "domestic_adj    15141 non-null float64\n",
      "budget_adj      3112 non-null float64\n",
      "dtypes: datetime64[ns](1), float64(8), object(10)\n",
      "memory usage: 3.0+ MB\n"
     ]
    }
   ],
   "source": [
    "df.info()"
   ]
  },
  {
   "cell_type": "markdown",
   "metadata": {},
   "source": [
    "---"
   ]
  },
  {
   "cell_type": "markdown",
   "metadata": {},
   "source": [
    "`!pip install fuzzywuzzy`"
   ]
  },
  {
   "cell_type": "code",
   "execution_count": 7,
   "metadata": {},
   "outputs": [],
   "source": [
    "from fuzzywuzzy import fuzz\n",
    "from fuzzywuzzy import process"
   ]
  },
  {
   "cell_type": "code",
   "execution_count": 8,
   "metadata": {},
   "outputs": [
    {
     "name": "stdout",
     "output_type": "stream",
     "text": [
      "1977 1978 1979 1980 1981 1982 1983 1984 1985 1986 1987 1988 1989 1990 1991 1992 1993 1994 1995 1996 1997 1998 1999 2000 2001 2002 2003 2004 2005 2006 2007 2008 2009 2010 2011 2012 2013 2014 2015 2016 2017 "
     ]
    }
   ],
   "source": [
    "matches_by_year = {}\n",
    "for year in range(1977, 2018):\n",
    "    for query in df_numbers[(df_numbers.Year==year)].Movie:\n",
    "        matches_by_year[(query,year)] = process.extractOne(query, df[(df.year==year)].title, score_cutoff=70)\n",
    "    print(year, end=' ')"
   ]
  },
  {
   "cell_type": "code",
   "execution_count": 9,
   "metadata": {},
   "outputs": [],
   "source": [
    "make_pickles([('matches_by_year.pkl', matches_by_year)])"
   ]
  },
  {
   "cell_type": "code",
   "execution_count": 10,
   "metadata": {},
   "outputs": [],
   "source": [
    "def get_key(Movie, Year):\n",
    "    try:\n",
    "        return matches_by_year[(Movie,Year)][0]\n",
    "    except TypeError:\n",
    "        return 'N/A'"
   ]
  },
  {
   "cell_type": "code",
   "execution_count": 53,
   "metadata": {},
   "outputs": [],
   "source": [
    "df_numbers['title'] = [get_key(movie, year) for (movie,year) in np.array(df_numbers[['Movie', 'Year']])]"
   ]
  },
  {
   "cell_type": "code",
   "execution_count": 54,
   "metadata": {},
   "outputs": [],
   "source": [
    "df_numbers.drop(df_numbers[df_numbers.duplicated(subset=['Movie', 'Year'], keep='last')].index,inplace=True)"
   ]
  },
  {
   "cell_type": "markdown",
   "metadata": {},
   "source": [
    "---"
   ]
  },
  {
   "cell_type": "code",
   "execution_count": 217,
   "metadata": {
    "collapsed": true
   },
   "outputs": [],
   "source": [
    "df_merge = df.merge(df_AZ, how='left', left_on='page', right_on='Link').merge(df_numbers,how='left', \\\n",
    "                                                                              left_on=['title', 'year'], \\\n",
    "                                                                              right_on=['title', 'Year'])"
   ]
  },
  {
   "cell_type": "code",
   "execution_count": 218,
   "metadata": {},
   "outputs": [
    {
     "data": {
      "text/plain": [
       "Index(['page', 'title', 'year', 'opening', 'domestic', 'budget', 'series',\n",
       "       'distr', 'rating', 'release', 'genre', 'runtime', 'directors',\n",
       "       'writers', 'actors', 'producers', 'opening_adj', 'domestic_adj',\n",
       "       'budget_adj', 'Link', 'Title', 'Studio', 'Total Gross',\n",
       "       'Total Theaters', 'Opening', 'Opening Theaters', 'Open', 'Release Date',\n",
       "       'Movie', 'Production Budget', 'Domestic Gross', 'Worldwide Gross',\n",
       "       'Year'],\n",
       "      dtype='object')"
      ]
     },
     "execution_count": 218,
     "metadata": {},
     "output_type": "execute_result"
    }
   ],
   "source": [
    "df_merge.columns"
   ]
  },
  {
   "cell_type": "code",
   "execution_count": 219,
   "metadata": {
    "collapsed": true
   },
   "outputs": [],
   "source": [
    "df_merge.drop(['page','opening','domestic','budget','directors','writers','actors','producers','domestic_adj','budget_adj',\\\n",
    "              'Link','Title','Studio','Total Gross','Total Theaters','Opening','Open','Release Date','Movie','Domestic Gross',\\\n",
    "              'Worldwide Gross','Year'],axis=1, inplace=True)"
   ]
  },
  {
   "cell_type": "code",
   "execution_count": 220,
   "metadata": {},
   "outputs": [
    {
     "data": {
      "text/plain": [
       "title                15976\n",
       "year                 15976\n",
       "series               15976\n",
       "distr                15976\n",
       "rating               15976\n",
       "release              15976\n",
       "genre                15976\n",
       "runtime              15522\n",
       "opening_adj          13429\n",
       "Opening Theaters     14321\n",
       "Production Budget     4947\n",
       "dtype: int64"
      ]
     },
     "execution_count": 220,
     "metadata": {},
     "output_type": "execute_result"
    }
   ],
   "source": [
    "df_merge.count()"
   ]
  },
  {
   "cell_type": "code",
   "execution_count": 221,
   "metadata": {},
   "outputs": [
    {
     "data": {
      "text/plain": [
       "100.0"
      ]
     },
     "execution_count": 221,
     "metadata": {},
     "output_type": "execute_result"
    }
   ],
   "source": [
    "df_merge.runtime.median()"
   ]
  },
  {
   "cell_type": "code",
   "execution_count": 222,
   "metadata": {},
   "outputs": [],
   "source": [
    "df_merge.runtime.fillna(100,inplace=True)"
   ]
  },
  {
   "cell_type": "code",
   "execution_count": 223,
   "metadata": {},
   "outputs": [],
   "source": [
    "df_merge.dropna(subset=['opening_adj','Production Budget', 'Opening Theaters',],inplace=True)"
   ]
  },
  {
   "cell_type": "markdown",
   "metadata": {},
   "source": [
    "---"
   ]
  },
  {
   "cell_type": "code",
   "execution_count": 224,
   "metadata": {},
   "outputs": [
    {
     "data": {
      "text/plain": [
       "Index(['title', 'year', 'series', 'distr', 'rating', 'release', 'genre',\n",
       "       'runtime', 'opening_adj', 'Opening Theaters', 'Production Budget'],\n",
       "      dtype='object')"
      ]
     },
     "execution_count": 224,
     "metadata": {},
     "output_type": "execute_result"
    }
   ],
   "source": [
    "df_merge.columns"
   ]
  },
  {
   "cell_type": "code",
   "execution_count": 225,
   "metadata": {
    "collapsed": true
   },
   "outputs": [],
   "source": [
    "distr_df = df_merge.groupby('distr')[['opening_adj','title']].agg({'opening_adj':'mean','title':'count'}).round()\\\n",
    "                                            .sort_values(by='opening_adj', ascending=False).head(20).reset_index()\n",
    "distr_df['distr_20'] = 1\n",
    "distr_df.drop(['opening_adj','title'], axis=1, inplace=True)\n",
    "df_merge = df_merge.merge(distr_df, how='left', on='distr')\n",
    "df_merge.distr_20.fillna(0, inplace=True)"
   ]
  },
  {
   "cell_type": "code",
   "execution_count": 226,
   "metadata": {
    "collapsed": true
   },
   "outputs": [],
   "source": [
    "def genre_grp(item):\n",
    "    genres = ['Horror', 'Sci-Fi', 'Thriller', 'Action', 'Comedy', 'Drama']\n",
    "    for genre in genres:\n",
    "        if genre in item:\n",
    "            return genre\n",
    "    else:\n",
    "        return 'Other'    \n",
    "\n",
    "df_merge['genre_grp'] = df_merge['genre'].apply(genre_grp)"
   ]
  },
  {
   "cell_type": "code",
   "execution_count": 227,
   "metadata": {
    "collapsed": true
   },
   "outputs": [],
   "source": [
    "rating_df = df_merge.groupby('rating').opening_adj.mean().round().sort_values(ascending=False).reset_index().head()\n",
    "rating_df['rating_grp'] = rating_df['rating']\n",
    "rating_df.drop(['opening_adj'],axis=1, inplace=True)\n",
    "df_merge = df_merge.merge(rating_df, how='left', on='rating')"
   ]
  },
  {
   "cell_type": "code",
   "execution_count": 228,
   "metadata": {
    "collapsed": true
   },
   "outputs": [],
   "source": [
    "df_merge['Franchise'] = [int(series!='N/A') for series in df_merge.series]"
   ]
  },
  {
   "cell_type": "code",
   "execution_count": 229,
   "metadata": {},
   "outputs": [],
   "source": [
    "df_merge['Season'] = df_merge['release'].map(lambda x:['Winter','Summer','Spring','Fall'][int(x.month//3)-1])"
   ]
  },
  {
   "cell_type": "code",
   "execution_count": 230,
   "metadata": {},
   "outputs": [
    {
     "data": {
      "text/plain": [
       "Index(['title', 'year', 'series', 'distr', 'rating', 'release', 'genre',\n",
       "       'runtime', 'opening_adj', 'Opening Theaters', 'Production Budget',\n",
       "       'distr_20', 'genre_grp', 'rating_grp', 'Franchise', 'Season'],\n",
       "      dtype='object')"
      ]
     },
     "execution_count": 230,
     "metadata": {},
     "output_type": "execute_result"
    }
   ],
   "source": [
    "df_merge.columns"
   ]
  },
  {
   "cell_type": "code",
   "execution_count": 232,
   "metadata": {},
   "outputs": [],
   "source": [
    "df_merge.drop(['series','distr','rating','release','genre'],axis=1, inplace=True)"
   ]
  },
  {
   "cell_type": "code",
   "execution_count": 234,
   "metadata": {
    "collapsed": true
   },
   "outputs": [],
   "source": [
    "make_pickles([('df_merge.pkl',df_merge)])"
   ]
  },
  {
   "cell_type": "markdown",
   "metadata": {},
   "source": [
    "---"
   ]
  },
  {
   "cell_type": "code",
   "execution_count": 233,
   "metadata": {},
   "outputs": [
    {
     "data": {
      "text/plain": [
       "Index(['title', 'year', 'runtime', 'opening_adj', 'Opening Theaters',\n",
       "       'Production Budget', 'distr_20', 'genre_grp', 'rating_grp', 'Franchise',\n",
       "       'Season'],\n",
       "      dtype='object')"
      ]
     },
     "execution_count": 233,
     "metadata": {},
     "output_type": "execute_result"
    }
   ],
   "source": [
    "df_merge.columns"
   ]
  }
 ],
 "metadata": {
  "kernelspec": {
   "display_name": "Python 3",
   "language": "python",
   "name": "python3"
  },
  "language_info": {
   "codemirror_mode": {
    "name": "ipython",
    "version": 3
   },
   "file_extension": ".py",
   "mimetype": "text/x-python",
   "name": "python",
   "nbconvert_exporter": "python",
   "pygments_lexer": "ipython3",
   "version": "3.6.1"
  }
 },
 "nbformat": 4,
 "nbformat_minor": 2
}
